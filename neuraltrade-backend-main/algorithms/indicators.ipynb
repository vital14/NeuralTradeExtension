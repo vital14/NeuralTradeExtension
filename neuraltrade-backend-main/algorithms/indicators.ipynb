{
 "cells": [
  {
   "cell_type": "code",
   "execution_count": null,
   "metadata": {},
   "outputs": [],
   "source": [
    "pip install yfinance  # type: ignore"
   ]
  },
  {
   "cell_type": "code",
   "execution_count": null,
   "metadata": {},
   "outputs": [],
   "source": [
    "import yfinance as yf\n",
    "import matplotlib.pyplot as plt"
   ]
  },
  {
   "cell_type": "code",
   "execution_count": null,
   "metadata": {},
   "outputs": [],
   "source": [
    "def calculate_moving_averages(df, short_period, long_period):\n",
    "    df['Short_MA'] = df['Close'].rolling(window=short_period).mean()\n",
    "    df['Long_MA'] = df['Close'].rolling(window=long_period).mean()\n",
    "\n",
    "def calculate_bollinger_bands(df, period=20, num_std_dev=2):\n",
    "    df['MA'] = df['Close'].rolling(window=period).mean()\n",
    "    df['Standard_Deviation'] = df['Close'].rolling(window=period).std()\n",
    "    df['Upper_Band'] = df['MA'] + (df['Standard_Deviation'] * num_std_dev)\n",
    "    df['Lower_Band'] = df['MA'] - (df['Standard_Deviation'] * num_std_dev)\n",
    "\n",
    "def calculate_macd(df, short_period=12, long_period=26):\n",
    "    df['Short_EMA'] = df['Close'].ewm(span=short_period, min_periods=1).mean()\n",
    "    df['Long_EMA'] = df['Close'].ewm(span=long_period, min_periods=1).mean()\n",
    "    df['MACD'] = df['Short_EMA'] - df['Long_EMA']\n",
    "    df['Signal_Line'] = df['MACD'].ewm(span=9, min_periods=1).mean()\n"
   ]
  },
  {
   "cell_type": "code",
   "execution_count": null,
   "metadata": {},
   "outputs": [],
   "source": [
    "df = yf.download('EURUSD=X', start='2020-01-01', end='2024-01-01')\n",
    "\n",
    "calculate_moving_averages(df, 50, 200)\n",
    "calculate_bollinger_bands(df)\n",
    "calculate_macd(df)"
   ]
  },
  {
   "cell_type": "code",
   "execution_count": null,
   "metadata": {},
   "outputs": [],
   "source": [
    "plt.figure(figsize=(14,7))\n",
    "plt.plot(df['Close'], label='Close Price', color='blue')\n",
    "plt.plot(df['Short_MA'], label='Short MA', color='red', linestyle='--')\n",
    "plt.plot(df['Long_MA'], label='Long MA', color='green', linestyle='--')\n",
    "plt.legend()\n",
    "plt.title('Moving Averages')\n",
    "plt.show()"
   ]
  },
  {
   "cell_type": "code",
   "execution_count": null,
   "metadata": {},
   "outputs": [],
   "source": [
    "plt.figure(figsize=(14,7))\n",
    "plt.plot(df['Close'], label='Close Price', color='blue')\n",
    "plt.plot(df['MA'], label='Moving Average', color='black', linestyle='--')\n",
    "plt.plot(df['Upper_Band'], label='Upper Band', color='red')\n",
    "plt.plot(df['Lower_Band'], label='Lower Band', color='green')\n",
    "plt.legend()\n",
    "plt.title('Bollinger Bands')\n",
    "plt.show()"
   ]
  },
  {
   "cell_type": "code",
   "execution_count": null,
   "metadata": {},
   "outputs": [],
   "source": [
    "plt.figure(figsize=(14,7))\n",
    "plt.plot(df['MACD'], label='MACD', color='blue')\n",
    "plt.plot(df['Signal_Line'], label='Signal Line', color='red', linestyle='--')\n",
    "plt.legend()\n",
    "plt.title('MACD')\n",
    "plt.show()"
   ]
  }
 ],
 "metadata": {
  "kernelspec": {
   "display_name": "base",
   "language": "python",
   "name": "python3"
  },
  "language_info": {
   "codemirror_mode": {
    "name": "ipython",
    "version": 3
   },
   "file_extension": ".py",
   "mimetype": "text/x-python",
   "name": "python",
   "nbconvert_exporter": "python",
   "pygments_lexer": "ipython3",
   "version": "3.11.7"
  }
 },
 "nbformat": 4,
 "nbformat_minor": 2
}
