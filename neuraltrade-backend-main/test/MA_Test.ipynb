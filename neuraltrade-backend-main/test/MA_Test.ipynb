{
 "cells": [
  {
   "cell_type": "code",
   "execution_count": 1,
   "id": "5fed330a",
   "metadata": {},
   "outputs": [],
   "source": [
    "import sys\n",
    "sys.path.append(\"../\")\n",
    "import pandas as pd\n",
    "import plotly.graph_objects as go\n",
    "import datetime as dt\n",
    "from plotting import CandlePlot"
   ]
  },
  {
   "cell_type": "code",
   "execution_count": 2,
   "id": "f7901fe1",
   "metadata": {},
   "outputs": [],
   "source": [
    "from infrastructure.instrument_collection import instrumentCollection as ic"
   ]
  },
  {
   "cell_type": "code",
   "execution_count": 3,
   "id": "b19a3cf7",
   "metadata": {},
   "outputs": [],
   "source": [
    "pair = \"AUD_CAD\"\n",
    "granularity = \"H4\"\n",
    "df = pd.read_pickle(f\"../data/{pair}_{granularity}.pkl\")\n",
    "MA_LIST = [10, 20, 50, 100, 200]"
   ]
  },
  {
   "cell_type": "code",
   "execution_count": 4,
   "id": "d163b875",
   "metadata": {},
   "outputs": [],
   "source": [
    "df_ma = df[['time', 'mid_o', 'mid_h', 'mid_l', 'mid_c']].copy()"
   ]
  },
  {
   "cell_type": "code",
   "execution_count": 5,
   "id": "1996e9b2",
   "metadata": {},
   "outputs": [
    {
     "data": {
      "text/html": [
       "<div>\n",
       "<style scoped>\n",
       "    .dataframe tbody tr th:only-of-type {\n",
       "        vertical-align: middle;\n",
       "    }\n",
       "\n",
       "    .dataframe tbody tr th {\n",
       "        vertical-align: top;\n",
       "    }\n",
       "\n",
       "    .dataframe thead th {\n",
       "        text-align: right;\n",
       "    }\n",
       "</style>\n",
       "<table border=\"1\" class=\"dataframe\">\n",
       "  <thead>\n",
       "    <tr style=\"text-align: right;\">\n",
       "      <th></th>\n",
       "      <th>time</th>\n",
       "      <th>mid_o</th>\n",
       "      <th>mid_h</th>\n",
       "      <th>mid_l</th>\n",
       "      <th>mid_c</th>\n",
       "    </tr>\n",
       "  </thead>\n",
       "  <tbody>\n",
       "    <tr>\n",
       "      <th>0</th>\n",
       "      <td>2021-11-08 22:00:00+00:00</td>\n",
       "      <td>0.92370</td>\n",
       "      <td>0.92420</td>\n",
       "      <td>0.92121</td>\n",
       "      <td>0.92133</td>\n",
       "    </tr>\n",
       "    <tr>\n",
       "      <th>1</th>\n",
       "      <td>2021-11-09 02:00:00+00:00</td>\n",
       "      <td>0.92132</td>\n",
       "      <td>0.92337</td>\n",
       "      <td>0.92032</td>\n",
       "      <td>0.92294</td>\n",
       "    </tr>\n",
       "    <tr>\n",
       "      <th>2</th>\n",
       "      <td>2021-11-09 06:00:00+00:00</td>\n",
       "      <td>0.92294</td>\n",
       "      <td>0.92419</td>\n",
       "      <td>0.92246</td>\n",
       "      <td>0.92350</td>\n",
       "    </tr>\n",
       "    <tr>\n",
       "      <th>3</th>\n",
       "      <td>2021-11-09 10:00:00+00:00</td>\n",
       "      <td>0.92354</td>\n",
       "      <td>0.92379</td>\n",
       "      <td>0.92030</td>\n",
       "      <td>0.92132</td>\n",
       "    </tr>\n",
       "    <tr>\n",
       "      <th>4</th>\n",
       "      <td>2021-11-09 14:00:00+00:00</td>\n",
       "      <td>0.92134</td>\n",
       "      <td>0.92240</td>\n",
       "      <td>0.91718</td>\n",
       "      <td>0.91766</td>\n",
       "    </tr>\n",
       "  </tbody>\n",
       "</table>\n",
       "</div>"
      ],
      "text/plain": [
       "                       time    mid_o    mid_h    mid_l    mid_c\n",
       "0 2021-11-08 22:00:00+00:00  0.92370  0.92420  0.92121  0.92133\n",
       "1 2021-11-09 02:00:00+00:00  0.92132  0.92337  0.92032  0.92294\n",
       "2 2021-11-09 06:00:00+00:00  0.92294  0.92419  0.92246  0.92350\n",
       "3 2021-11-09 10:00:00+00:00  0.92354  0.92379  0.92030  0.92132\n",
       "4 2021-11-09 14:00:00+00:00  0.92134  0.92240  0.91718  0.91766"
      ]
     },
     "execution_count": 5,
     "metadata": {},
     "output_type": "execute_result"
    }
   ],
   "source": [
    "df_ma.head()"
   ]
  },
  {
   "cell_type": "code",
   "execution_count": 6,
   "id": "2bd5b6f3",
   "metadata": {},
   "outputs": [],
   "source": [
    "for ma in MA_LIST:    \n",
    "    df_ma[f'MA_{ma}'] = df_ma.mid_c.rolling(window=ma).mean()\n",
    "df_ma.dropna(inplace=True)\n",
    "df_ma.reset_index(inplace=True, drop=True)"
   ]
  },
  {
   "cell_type": "code",
   "execution_count": 7,
   "id": "2046e30d",
   "metadata": {},
   "outputs": [],
   "source": [
    "df_plot = df_ma.iloc[:500]"
   ]
  },
  {
   "cell_type": "code",
   "execution_count": 8,
   "id": "fdb6f2c5",
   "metadata": {},
   "outputs": [],
   "source": [
    "cp = CandlePlot(df_plot)"
   ]
  },
  {
   "cell_type": "code",
   "execution_count": 9,
   "id": "df51c5c1",
   "metadata": {},
   "outputs": [],
   "source": [
    "traces = [ f\"MA_{x}\" for x in MA_LIST ]"
   ]
  },
  {
   "cell_type": "code",
   "execution_count": null,
   "id": "210c53e5",
   "metadata": {},
   "outputs": [],
   "source": [
    "cp.show_plot(line_traces=traces)"
   ]
  },
  {
   "cell_type": "code",
   "execution_count": 10,
   "id": "aa59bf65",
   "metadata": {},
   "outputs": [],
   "source": [
    "MA_S = \"MA_50\"\n",
    "MA_L = \"MA_200\"\n",
    "BUY = 1\n",
    "SELL = -1\n",
    "NONE = 0"
   ]
  },
  {
   "cell_type": "code",
   "execution_count": 11,
   "id": "3528ed09",
   "metadata": {},
   "outputs": [],
   "source": [
    "df_an = df_ma[['time', 'mid_o', 'mid_h', 'mid_l', 'mid_c', MA_S, MA_L]].copy()"
   ]
  },
  {
   "cell_type": "code",
   "execution_count": 12,
   "id": "a64ba904",
   "metadata": {},
   "outputs": [
    {
     "data": {
      "text/html": [
       "<div>\n",
       "<style scoped>\n",
       "    .dataframe tbody tr th:only-of-type {\n",
       "        vertical-align: middle;\n",
       "    }\n",
       "\n",
       "    .dataframe tbody tr th {\n",
       "        vertical-align: top;\n",
       "    }\n",
       "\n",
       "    .dataframe thead th {\n",
       "        text-align: right;\n",
       "    }\n",
       "</style>\n",
       "<table border=\"1\" class=\"dataframe\">\n",
       "  <thead>\n",
       "    <tr style=\"text-align: right;\">\n",
       "      <th></th>\n",
       "      <th>time</th>\n",
       "      <th>mid_o</th>\n",
       "      <th>mid_h</th>\n",
       "      <th>mid_l</th>\n",
       "      <th>mid_c</th>\n",
       "      <th>MA_50</th>\n",
       "      <th>MA_200</th>\n",
       "    </tr>\n",
       "  </thead>\n",
       "  <tbody>\n",
       "    <tr>\n",
       "      <th>0</th>\n",
       "      <td>2021-12-24 02:00:00+00:00</td>\n",
       "      <td>0.92727</td>\n",
       "      <td>0.92828</td>\n",
       "      <td>0.92640</td>\n",
       "      <td>0.92772</td>\n",
       "      <td>0.920381</td>\n",
       "      <td>0.914325</td>\n",
       "    </tr>\n",
       "    <tr>\n",
       "      <th>1</th>\n",
       "      <td>2021-12-24 06:00:00+00:00</td>\n",
       "      <td>0.92772</td>\n",
       "      <td>0.92883</td>\n",
       "      <td>0.92726</td>\n",
       "      <td>0.92792</td>\n",
       "      <td>0.920707</td>\n",
       "      <td>0.914358</td>\n",
       "    </tr>\n",
       "    <tr>\n",
       "      <th>2</th>\n",
       "      <td>2021-12-24 10:00:00+00:00</td>\n",
       "      <td>0.92792</td>\n",
       "      <td>0.92810</td>\n",
       "      <td>0.92532</td>\n",
       "      <td>0.92688</td>\n",
       "      <td>0.921031</td>\n",
       "      <td>0.914378</td>\n",
       "    </tr>\n",
       "    <tr>\n",
       "      <th>3</th>\n",
       "      <td>2021-12-24 14:00:00+00:00</td>\n",
       "      <td>0.92687</td>\n",
       "      <td>0.92741</td>\n",
       "      <td>0.92505</td>\n",
       "      <td>0.92552</td>\n",
       "      <td>0.921285</td>\n",
       "      <td>0.914388</td>\n",
       "    </tr>\n",
       "    <tr>\n",
       "      <th>4</th>\n",
       "      <td>2021-12-24 18:00:00+00:00</td>\n",
       "      <td>0.92558</td>\n",
       "      <td>0.92793</td>\n",
       "      <td>0.92465</td>\n",
       "      <td>0.92513</td>\n",
       "      <td>0.921529</td>\n",
       "      <td>0.914407</td>\n",
       "    </tr>\n",
       "  </tbody>\n",
       "</table>\n",
       "</div>"
      ],
      "text/plain": [
       "                       time    mid_o    mid_h    mid_l    mid_c     MA_50  \\\n",
       "0 2021-12-24 02:00:00+00:00  0.92727  0.92828  0.92640  0.92772  0.920381   \n",
       "1 2021-12-24 06:00:00+00:00  0.92772  0.92883  0.92726  0.92792  0.920707   \n",
       "2 2021-12-24 10:00:00+00:00  0.92792  0.92810  0.92532  0.92688  0.921031   \n",
       "3 2021-12-24 14:00:00+00:00  0.92687  0.92741  0.92505  0.92552  0.921285   \n",
       "4 2021-12-24 18:00:00+00:00  0.92558  0.92793  0.92465  0.92513  0.921529   \n",
       "\n",
       "     MA_200  \n",
       "0  0.914325  \n",
       "1  0.914358  \n",
       "2  0.914378  \n",
       "3  0.914388  \n",
       "4  0.914407  "
      ]
     },
     "execution_count": 12,
     "metadata": {},
     "output_type": "execute_result"
    }
   ],
   "source": [
    "df_an.head()"
   ]
  },
  {
   "cell_type": "code",
   "execution_count": 13,
   "id": "e2715b14",
   "metadata": {},
   "outputs": [],
   "source": [
    "df_an['DELTA'] = df_an.MA_50 - df_an.MA_200\n",
    "df_an['DELTA_PREV'] = df_an.DELTA.shift(1)"
   ]
  },
  {
   "cell_type": "code",
   "execution_count": 14,
   "id": "2449e608",
   "metadata": {},
   "outputs": [],
   "source": [
    "def is_trade(row):\n",
    "    if row.DELTA >= 0  and row.DELTA_PREV < 0:\n",
    "        return BUY\n",
    "    elif row.DELTA < 0  and row.DELTA_PREV >= 0:\n",
    "        return SELL\n",
    "    return NONE"
   ]
  },
  {
   "cell_type": "code",
   "execution_count": 15,
   "id": "9ebd519d",
   "metadata": {},
   "outputs": [],
   "source": [
    "df_an['TRADE'] = df_an.apply(is_trade, axis=1)"
   ]
  },
  {
   "cell_type": "code",
   "execution_count": 16,
   "id": "a4afafb4",
   "metadata": {},
   "outputs": [],
   "source": [
    "df_trades = df_an[df_an.TRADE != NONE].copy()"
   ]
  },
  {
   "cell_type": "code",
   "execution_count": 17,
   "id": "09890362",
   "metadata": {},
   "outputs": [
    {
     "data": {
      "text/html": [
       "<div>\n",
       "<style scoped>\n",
       "    .dataframe tbody tr th:only-of-type {\n",
       "        vertical-align: middle;\n",
       "    }\n",
       "\n",
       "    .dataframe tbody tr th {\n",
       "        vertical-align: top;\n",
       "    }\n",
       "\n",
       "    .dataframe thead th {\n",
       "        text-align: right;\n",
       "    }\n",
       "</style>\n",
       "<table border=\"1\" class=\"dataframe\">\n",
       "  <thead>\n",
       "    <tr style=\"text-align: right;\">\n",
       "      <th></th>\n",
       "      <th>time</th>\n",
       "      <th>mid_o</th>\n",
       "      <th>mid_h</th>\n",
       "      <th>mid_l</th>\n",
       "      <th>mid_c</th>\n",
       "      <th>MA_50</th>\n",
       "      <th>MA_200</th>\n",
       "      <th>DELTA</th>\n",
       "      <th>DELTA_PREV</th>\n",
       "      <th>TRADE</th>\n",
       "    </tr>\n",
       "  </thead>\n",
       "  <tbody>\n",
       "    <tr>\n",
       "      <th>77</th>\n",
       "      <td>2022-01-11 22:00:00+00:00</td>\n",
       "      <td>0.90688</td>\n",
       "      <td>0.90716</td>\n",
       "      <td>0.90560</td>\n",
       "      <td>0.90602</td>\n",
       "      <td>0.915155</td>\n",
       "      <td>0.915196</td>\n",
       "      <td>-0.000041</td>\n",
       "      <td>3.633000e-04</td>\n",
       "      <td>-1</td>\n",
       "    </tr>\n",
       "    <tr>\n",
       "      <th>225</th>\n",
       "      <td>2022-02-15 14:00:00+00:00</td>\n",
       "      <td>0.90900</td>\n",
       "      <td>0.91154</td>\n",
       "      <td>0.90830</td>\n",
       "      <td>0.91066</td>\n",
       "      <td>0.906913</td>\n",
       "      <td>0.906897</td>\n",
       "      <td>0.000015</td>\n",
       "      <td>-2.038500e-04</td>\n",
       "      <td>1</td>\n",
       "    </tr>\n",
       "    <tr>\n",
       "      <th>496</th>\n",
       "      <td>2022-04-19 17:00:00+00:00</td>\n",
       "      <td>0.93124</td>\n",
       "      <td>0.93168</td>\n",
       "      <td>0.93020</td>\n",
       "      <td>0.93108</td>\n",
       "      <td>0.935758</td>\n",
       "      <td>0.935859</td>\n",
       "      <td>-0.000101</td>\n",
       "      <td>1.091000e-04</td>\n",
       "      <td>-1</td>\n",
       "    </tr>\n",
       "    <tr>\n",
       "      <th>697</th>\n",
       "      <td>2022-06-06 05:00:00+00:00</td>\n",
       "      <td>0.90583</td>\n",
       "      <td>0.90814</td>\n",
       "      <td>0.90542</td>\n",
       "      <td>0.90807</td>\n",
       "      <td>0.909366</td>\n",
       "      <td>0.909278</td>\n",
       "      <td>0.000088</td>\n",
       "      <td>-1.000000e-06</td>\n",
       "      <td>1</td>\n",
       "    </tr>\n",
       "    <tr>\n",
       "      <th>719</th>\n",
       "      <td>2022-06-09 21:00:00+00:00</td>\n",
       "      <td>0.90124</td>\n",
       "      <td>0.90196</td>\n",
       "      <td>0.90050</td>\n",
       "      <td>0.90150</td>\n",
       "      <td>0.906860</td>\n",
       "      <td>0.906952</td>\n",
       "      <td>-0.000091</td>\n",
       "      <td>2.965000e-05</td>\n",
       "      <td>-1</td>\n",
       "    </tr>\n",
       "  </tbody>\n",
       "</table>\n",
       "</div>"
      ],
      "text/plain": [
       "                         time    mid_o    mid_h    mid_l    mid_c     MA_50  \\\n",
       "77  2022-01-11 22:00:00+00:00  0.90688  0.90716  0.90560  0.90602  0.915155   \n",
       "225 2022-02-15 14:00:00+00:00  0.90900  0.91154  0.90830  0.91066  0.906913   \n",
       "496 2022-04-19 17:00:00+00:00  0.93124  0.93168  0.93020  0.93108  0.935758   \n",
       "697 2022-06-06 05:00:00+00:00  0.90583  0.90814  0.90542  0.90807  0.909366   \n",
       "719 2022-06-09 21:00:00+00:00  0.90124  0.90196  0.90050  0.90150  0.906860   \n",
       "\n",
       "       MA_200     DELTA    DELTA_PREV  TRADE  \n",
       "77   0.915196 -0.000041  3.633000e-04     -1  \n",
       "225  0.906897  0.000015 -2.038500e-04      1  \n",
       "496  0.935859 -0.000101  1.091000e-04     -1  \n",
       "697  0.909278  0.000088 -1.000000e-06      1  \n",
       "719  0.906952 -0.000091  2.965000e-05     -1  "
      ]
     },
     "execution_count": 17,
     "metadata": {},
     "output_type": "execute_result"
    }
   ],
   "source": [
    "df_trades.head()"
   ]
  },
  {
   "cell_type": "code",
   "execution_count": 18,
   "id": "630c1fb8",
   "metadata": {},
   "outputs": [
    {
     "data": {
      "application/vnd.plotly.v1+json": {
       "config": {
        "plotlyServerURL": "https://plot.ly"
       },
       "data": [
        {
         "close": [
          0.90718,
          0.90799,
          0.90564,
          0.90745,
          0.90901,
          0.91066,
          0.90954,
          0.90918,
          0.91023,
          0.9098,
          0.90832,
          0.91098,
          0.91334,
          0.9149,
          0.91298,
          0.91441,
          0.91528,
          0.91308,
          0.9135,
          0.91351,
          0.91425,
          0.91494,
          0.91594,
          0.9144,
          0.91524,
          0.91674,
          0.91776,
          0.91906,
          0.91799,
          0.91886,
          0.91686,
          0.9176,
          0.91813,
          0.91851,
          0.9183,
          0.92031,
          0.92172,
          0.9224,
          0.92178,
          0.92344
         ],
         "decreasing": {
          "fillcolor": "#CC2E3C",
          "line": {
           "color": "#FF3A4C"
          }
         },
         "high": [
          0.9087,
          0.9082,
          0.90926,
          0.90982,
          0.90906,
          0.91154,
          0.91136,
          0.91012,
          0.91043,
          0.91176,
          0.9107,
          0.91144,
          0.91384,
          0.91495,
          0.91585,
          0.9162,
          0.91631,
          0.91639,
          0.9138,
          0.91453,
          0.91498,
          0.91613,
          0.91629,
          0.9162,
          0.91633,
          0.91705,
          0.91874,
          0.91936,
          0.91919,
          0.91962,
          0.91909,
          0.91815,
          0.91944,
          0.91916,
          0.92067,
          0.9209,
          0.92212,
          0.92322,
          0.92282,
          0.92362
         ],
         "increasing": {
          "fillcolor": "#24A06B",
          "line": {
           "color": "#2EC886"
          }
         },
         "line": {
          "width": 1
         },
         "low": [
          0.90604,
          0.9068,
          0.90562,
          0.90546,
          0.90685,
          0.9083,
          0.90942,
          0.90895,
          0.90919,
          0.90952,
          0.90749,
          0.90812,
          0.91088,
          0.91271,
          0.91008,
          0.91281,
          0.91414,
          0.91257,
          0.91283,
          0.91244,
          0.91328,
          0.91394,
          0.91456,
          0.9136,
          0.91434,
          0.91443,
          0.9165,
          0.91772,
          0.91708,
          0.91757,
          0.91673,
          0.91554,
          0.91719,
          0.91754,
          0.91744,
          0.9177,
          0.91975,
          0.92128,
          0.9209,
          0.9217
         ],
         "opacity": 1,
         "open": [
          0.90868,
          0.90724,
          0.90796,
          0.90564,
          0.90746,
          0.909,
          0.91065,
          0.9095,
          0.90919,
          0.91024,
          0.90984,
          0.90836,
          0.91094,
          0.91308,
          0.91493,
          0.91302,
          0.91439,
          0.91532,
          0.91309,
          0.9133,
          0.91351,
          0.91424,
          0.9149,
          0.91599,
          0.91441,
          0.91504,
          0.91674,
          0.91776,
          0.91902,
          0.918,
          0.9189,
          0.91701,
          0.91758,
          0.91812,
          0.9185,
          0.91827,
          0.9203,
          0.92203,
          0.92243,
          0.92179
         ],
         "type": "candlestick",
         "x": [
          "s22-02-14 18:00",
          "s22-02-14 22:00",
          "s22-02-15 02:00",
          "s22-02-15 06:00",
          "s22-02-15 10:00",
          "s22-02-15 14:00",
          "s22-02-15 18:00",
          "s22-02-15 22:00",
          "s22-02-16 02:00",
          "s22-02-16 06:00",
          "s22-02-16 10:00",
          "s22-02-16 14:00",
          "s22-02-16 18:00",
          "s22-02-16 22:00",
          "s22-02-17 02:00",
          "s22-02-17 06:00",
          "s22-02-17 10:00",
          "s22-02-17 14:00",
          "s22-02-17 18:00",
          "s22-02-17 22:00",
          "s22-02-18 02:00",
          "s22-02-18 06:00",
          "s22-02-18 10:00",
          "s22-02-18 14:00",
          "s22-02-18 18:00",
          "s22-02-20 22:00",
          "s22-02-21 02:00",
          "s22-02-21 06:00",
          "s22-02-21 10:00",
          "s22-02-21 14:00",
          "s22-02-21 18:00",
          "s22-02-21 22:00",
          "s22-02-22 02:00",
          "s22-02-22 06:00",
          "s22-02-22 10:00",
          "s22-02-22 14:00",
          "s22-02-22 18:00",
          "s22-02-22 22:00",
          "s22-02-23 02:00",
          "s22-02-23 06:00"
         ]
        },
        {
         "line": {
          "shape": "spline",
          "width": 2
         },
         "name": "MA_50",
         "type": "scatter",
         "x": [
          "s22-02-14 18:00",
          "s22-02-14 22:00",
          "s22-02-15 02:00",
          "s22-02-15 06:00",
          "s22-02-15 10:00",
          "s22-02-15 14:00",
          "s22-02-15 18:00",
          "s22-02-15 22:00",
          "s22-02-16 02:00",
          "s22-02-16 06:00",
          "s22-02-16 10:00",
          "s22-02-16 14:00",
          "s22-02-16 18:00",
          "s22-02-16 22:00",
          "s22-02-17 02:00",
          "s22-02-17 06:00",
          "s22-02-17 10:00",
          "s22-02-17 14:00",
          "s22-02-17 18:00",
          "s22-02-17 22:00",
          "s22-02-18 02:00",
          "s22-02-18 06:00",
          "s22-02-18 10:00",
          "s22-02-18 14:00",
          "s22-02-18 18:00",
          "s22-02-20 22:00",
          "s22-02-21 02:00",
          "s22-02-21 06:00",
          "s22-02-21 10:00",
          "s22-02-21 14:00",
          "s22-02-21 18:00",
          "s22-02-21 22:00",
          "s22-02-22 02:00",
          "s22-02-22 06:00",
          "s22-02-22 10:00",
          "s22-02-22 14:00",
          "s22-02-22 18:00",
          "s22-02-22 22:00",
          "s22-02-23 02:00",
          "s22-02-23 06:00"
         ],
         "y": [
          0.9065090000000001,
          0.9065644,
          0.9065976,
          0.9066806,
          0.9067868,
          0.9069126,
          0.9069997999999999,
          0.9070801999999999,
          0.9071858,
          0.9072882,
          0.9073422,
          0.9074817999999999,
          0.9077185999999999,
          0.9079765999999999,
          0.9081705999999999,
          0.9084228,
          0.9086915999999999,
          0.9088807999999999,
          0.9090758000000001,
          0.9093092,
          0.9095414,
          0.9097512000000001,
          0.9100100000000001,
          0.9101976,
          0.9103948,
          0.9105987999999999,
          0.9107983999999999,
          0.9109976000000001,
          0.9111818,
          0.9113718,
          0.9114874,
          0.9116365999999999,
          0.9118006000000001,
          0.9119912000000001,
          0.9121716000000001,
          0.912355,
          0.9125877999999998,
          0.9127582,
          0.9129558,
          0.9132061999999999
         ]
        },
        {
         "line": {
          "shape": "spline",
          "width": 2
         },
         "name": "MA_200",
         "type": "scatter",
         "x": [
          "s22-02-14 18:00",
          "s22-02-14 22:00",
          "s22-02-15 02:00",
          "s22-02-15 06:00",
          "s22-02-15 10:00",
          "s22-02-15 14:00",
          "s22-02-15 18:00",
          "s22-02-15 22:00",
          "s22-02-16 02:00",
          "s22-02-16 06:00",
          "s22-02-16 10:00",
          "s22-02-16 14:00",
          "s22-02-16 18:00",
          "s22-02-16 22:00",
          "s22-02-17 02:00",
          "s22-02-17 06:00",
          "s22-02-17 10:00",
          "s22-02-17 14:00",
          "s22-02-17 18:00",
          "s22-02-17 22:00",
          "s22-02-18 02:00",
          "s22-02-18 06:00",
          "s22-02-18 10:00",
          "s22-02-18 14:00",
          "s22-02-18 18:00",
          "s22-02-20 22:00",
          "s22-02-21 02:00",
          "s22-02-21 06:00",
          "s22-02-21 10:00",
          "s22-02-21 14:00",
          "s22-02-21 18:00",
          "s22-02-21 22:00",
          "s22-02-22 02:00",
          "s22-02-22 06:00",
          "s22-02-22 10:00",
          "s22-02-22 14:00",
          "s22-02-22 18:00",
          "s22-02-22 22:00",
          "s22-02-23 02:00",
          "s22-02-23 06:00"
         ],
         "y": [
          0.9073952,
          0.90729685,
          0.907189,
          0.9070860000000001,
          0.90699065,
          0.9068972500000001,
          0.90680205,
          0.90671315,
          0.9066467,
          0.9065721999999999,
          0.9064938499999999,
          0.90642675,
          0.90638295,
          0.9063549499999999,
          0.9063256,
          0.9063039,
          0.90628645,
          0.90625195,
          0.9062272,
          0.90620515,
          0.9061939,
          0.90617765,
          0.90616835,
          0.90614425,
          0.90613295,
          0.90612155,
          0.90611125,
          0.9061093499999999,
          0.9061020000000001,
          0.9060895499999999,
          0.90606255,
          0.9060352500000001,
          0.9060209,
          0.90600835,
          0.9060125500000001,
          0.9060393000000001,
          0.9060769000000001,
          0.9061314999999999,
          0.9061830000000001,
          0.9062421999999999
         ]
        }
       ],
       "layout": {
        "font": {
         "color": "#e1e1e1",
         "size": 8
        },
        "height": 400,
        "margin": {
         "b": 10,
         "l": 10,
         "r": 10,
         "t": 10
        },
        "paper_bgcolor": "#2c303c",
        "plot_bgcolor": "#2c303c",
        "template": {
         "data": {
          "bar": [
           {
            "error_x": {
             "color": "#2a3f5f"
            },
            "error_y": {
             "color": "#2a3f5f"
            },
            "marker": {
             "line": {
              "color": "#E5ECF6",
              "width": 0.5
             },
             "pattern": {
              "fillmode": "overlay",
              "size": 10,
              "solidity": 0.2
             }
            },
            "type": "bar"
           }
          ],
          "barpolar": [
           {
            "marker": {
             "line": {
              "color": "#E5ECF6",
              "width": 0.5
             },
             "pattern": {
              "fillmode": "overlay",
              "size": 10,
              "solidity": 0.2
             }
            },
            "type": "barpolar"
           }
          ],
          "carpet": [
           {
            "aaxis": {
             "endlinecolor": "#2a3f5f",
             "gridcolor": "white",
             "linecolor": "white",
             "minorgridcolor": "white",
             "startlinecolor": "#2a3f5f"
            },
            "baxis": {
             "endlinecolor": "#2a3f5f",
             "gridcolor": "white",
             "linecolor": "white",
             "minorgridcolor": "white",
             "startlinecolor": "#2a3f5f"
            },
            "type": "carpet"
           }
          ],
          "choropleth": [
           {
            "colorbar": {
             "outlinewidth": 0,
             "ticks": ""
            },
            "type": "choropleth"
           }
          ],
          "contour": [
           {
            "colorbar": {
             "outlinewidth": 0,
             "ticks": ""
            },
            "colorscale": [
             [
              0,
              "#0d0887"
             ],
             [
              0.1111111111111111,
              "#46039f"
             ],
             [
              0.2222222222222222,
              "#7201a8"
             ],
             [
              0.3333333333333333,
              "#9c179e"
             ],
             [
              0.4444444444444444,
              "#bd3786"
             ],
             [
              0.5555555555555556,
              "#d8576b"
             ],
             [
              0.6666666666666666,
              "#ed7953"
             ],
             [
              0.7777777777777778,
              "#fb9f3a"
             ],
             [
              0.8888888888888888,
              "#fdca26"
             ],
             [
              1,
              "#f0f921"
             ]
            ],
            "type": "contour"
           }
          ],
          "contourcarpet": [
           {
            "colorbar": {
             "outlinewidth": 0,
             "ticks": ""
            },
            "type": "contourcarpet"
           }
          ],
          "heatmap": [
           {
            "colorbar": {
             "outlinewidth": 0,
             "ticks": ""
            },
            "colorscale": [
             [
              0,
              "#0d0887"
             ],
             [
              0.1111111111111111,
              "#46039f"
             ],
             [
              0.2222222222222222,
              "#7201a8"
             ],
             [
              0.3333333333333333,
              "#9c179e"
             ],
             [
              0.4444444444444444,
              "#bd3786"
             ],
             [
              0.5555555555555556,
              "#d8576b"
             ],
             [
              0.6666666666666666,
              "#ed7953"
             ],
             [
              0.7777777777777778,
              "#fb9f3a"
             ],
             [
              0.8888888888888888,
              "#fdca26"
             ],
             [
              1,
              "#f0f921"
             ]
            ],
            "type": "heatmap"
           }
          ],
          "heatmapgl": [
           {
            "colorbar": {
             "outlinewidth": 0,
             "ticks": ""
            },
            "colorscale": [
             [
              0,
              "#0d0887"
             ],
             [
              0.1111111111111111,
              "#46039f"
             ],
             [
              0.2222222222222222,
              "#7201a8"
             ],
             [
              0.3333333333333333,
              "#9c179e"
             ],
             [
              0.4444444444444444,
              "#bd3786"
             ],
             [
              0.5555555555555556,
              "#d8576b"
             ],
             [
              0.6666666666666666,
              "#ed7953"
             ],
             [
              0.7777777777777778,
              "#fb9f3a"
             ],
             [
              0.8888888888888888,
              "#fdca26"
             ],
             [
              1,
              "#f0f921"
             ]
            ],
            "type": "heatmapgl"
           }
          ],
          "histogram": [
           {
            "marker": {
             "pattern": {
              "fillmode": "overlay",
              "size": 10,
              "solidity": 0.2
             }
            },
            "type": "histogram"
           }
          ],
          "histogram2d": [
           {
            "colorbar": {
             "outlinewidth": 0,
             "ticks": ""
            },
            "colorscale": [
             [
              0,
              "#0d0887"
             ],
             [
              0.1111111111111111,
              "#46039f"
             ],
             [
              0.2222222222222222,
              "#7201a8"
             ],
             [
              0.3333333333333333,
              "#9c179e"
             ],
             [
              0.4444444444444444,
              "#bd3786"
             ],
             [
              0.5555555555555556,
              "#d8576b"
             ],
             [
              0.6666666666666666,
              "#ed7953"
             ],
             [
              0.7777777777777778,
              "#fb9f3a"
             ],
             [
              0.8888888888888888,
              "#fdca26"
             ],
             [
              1,
              "#f0f921"
             ]
            ],
            "type": "histogram2d"
           }
          ],
          "histogram2dcontour": [
           {
            "colorbar": {
             "outlinewidth": 0,
             "ticks": ""
            },
            "colorscale": [
             [
              0,
              "#0d0887"
             ],
             [
              0.1111111111111111,
              "#46039f"
             ],
             [
              0.2222222222222222,
              "#7201a8"
             ],
             [
              0.3333333333333333,
              "#9c179e"
             ],
             [
              0.4444444444444444,
              "#bd3786"
             ],
             [
              0.5555555555555556,
              "#d8576b"
             ],
             [
              0.6666666666666666,
              "#ed7953"
             ],
             [
              0.7777777777777778,
              "#fb9f3a"
             ],
             [
              0.8888888888888888,
              "#fdca26"
             ],
             [
              1,
              "#f0f921"
             ]
            ],
            "type": "histogram2dcontour"
           }
          ],
          "mesh3d": [
           {
            "colorbar": {
             "outlinewidth": 0,
             "ticks": ""
            },
            "type": "mesh3d"
           }
          ],
          "parcoords": [
           {
            "line": {
             "colorbar": {
              "outlinewidth": 0,
              "ticks": ""
             }
            },
            "type": "parcoords"
           }
          ],
          "pie": [
           {
            "automargin": true,
            "type": "pie"
           }
          ],
          "scatter": [
           {
            "fillpattern": {
             "fillmode": "overlay",
             "size": 10,
             "solidity": 0.2
            },
            "type": "scatter"
           }
          ],
          "scatter3d": [
           {
            "line": {
             "colorbar": {
              "outlinewidth": 0,
              "ticks": ""
             }
            },
            "marker": {
             "colorbar": {
              "outlinewidth": 0,
              "ticks": ""
             }
            },
            "type": "scatter3d"
           }
          ],
          "scattercarpet": [
           {
            "marker": {
             "colorbar": {
              "outlinewidth": 0,
              "ticks": ""
             }
            },
            "type": "scattercarpet"
           }
          ],
          "scattergeo": [
           {
            "marker": {
             "colorbar": {
              "outlinewidth": 0,
              "ticks": ""
             }
            },
            "type": "scattergeo"
           }
          ],
          "scattergl": [
           {
            "marker": {
             "colorbar": {
              "outlinewidth": 0,
              "ticks": ""
             }
            },
            "type": "scattergl"
           }
          ],
          "scattermapbox": [
           {
            "marker": {
             "colorbar": {
              "outlinewidth": 0,
              "ticks": ""
             }
            },
            "type": "scattermapbox"
           }
          ],
          "scatterpolar": [
           {
            "marker": {
             "colorbar": {
              "outlinewidth": 0,
              "ticks": ""
             }
            },
            "type": "scatterpolar"
           }
          ],
          "scatterpolargl": [
           {
            "marker": {
             "colorbar": {
              "outlinewidth": 0,
              "ticks": ""
             }
            },
            "type": "scatterpolargl"
           }
          ],
          "scatterternary": [
           {
            "marker": {
             "colorbar": {
              "outlinewidth": 0,
              "ticks": ""
             }
            },
            "type": "scatterternary"
           }
          ],
          "surface": [
           {
            "colorbar": {
             "outlinewidth": 0,
             "ticks": ""
            },
            "colorscale": [
             [
              0,
              "#0d0887"
             ],
             [
              0.1111111111111111,
              "#46039f"
             ],
             [
              0.2222222222222222,
              "#7201a8"
             ],
             [
              0.3333333333333333,
              "#9c179e"
             ],
             [
              0.4444444444444444,
              "#bd3786"
             ],
             [
              0.5555555555555556,
              "#d8576b"
             ],
             [
              0.6666666666666666,
              "#ed7953"
             ],
             [
              0.7777777777777778,
              "#fb9f3a"
             ],
             [
              0.8888888888888888,
              "#fdca26"
             ],
             [
              1,
              "#f0f921"
             ]
            ],
            "type": "surface"
           }
          ],
          "table": [
           {
            "cells": {
             "fill": {
              "color": "#EBF0F8"
             },
             "line": {
              "color": "white"
             }
            },
            "header": {
             "fill": {
              "color": "#C8D4E3"
             },
             "line": {
              "color": "white"
             }
            },
            "type": "table"
           }
          ]
         },
         "layout": {
          "annotationdefaults": {
           "arrowcolor": "#2a3f5f",
           "arrowhead": 0,
           "arrowwidth": 1
          },
          "autotypenumbers": "strict",
          "coloraxis": {
           "colorbar": {
            "outlinewidth": 0,
            "ticks": ""
           }
          },
          "colorscale": {
           "diverging": [
            [
             0,
             "#8e0152"
            ],
            [
             0.1,
             "#c51b7d"
            ],
            [
             0.2,
             "#de77ae"
            ],
            [
             0.3,
             "#f1b6da"
            ],
            [
             0.4,
             "#fde0ef"
            ],
            [
             0.5,
             "#f7f7f7"
            ],
            [
             0.6,
             "#e6f5d0"
            ],
            [
             0.7,
             "#b8e186"
            ],
            [
             0.8,
             "#7fbc41"
            ],
            [
             0.9,
             "#4d9221"
            ],
            [
             1,
             "#276419"
            ]
           ],
           "sequential": [
            [
             0,
             "#0d0887"
            ],
            [
             0.1111111111111111,
             "#46039f"
            ],
            [
             0.2222222222222222,
             "#7201a8"
            ],
            [
             0.3333333333333333,
             "#9c179e"
            ],
            [
             0.4444444444444444,
             "#bd3786"
            ],
            [
             0.5555555555555556,
             "#d8576b"
            ],
            [
             0.6666666666666666,
             "#ed7953"
            ],
            [
             0.7777777777777778,
             "#fb9f3a"
            ],
            [
             0.8888888888888888,
             "#fdca26"
            ],
            [
             1,
             "#f0f921"
            ]
           ],
           "sequentialminus": [
            [
             0,
             "#0d0887"
            ],
            [
             0.1111111111111111,
             "#46039f"
            ],
            [
             0.2222222222222222,
             "#7201a8"
            ],
            [
             0.3333333333333333,
             "#9c179e"
            ],
            [
             0.4444444444444444,
             "#bd3786"
            ],
            [
             0.5555555555555556,
             "#d8576b"
            ],
            [
             0.6666666666666666,
             "#ed7953"
            ],
            [
             0.7777777777777778,
             "#fb9f3a"
            ],
            [
             0.8888888888888888,
             "#fdca26"
            ],
            [
             1,
             "#f0f921"
            ]
           ]
          },
          "colorway": [
           "#636efa",
           "#EF553B",
           "#00cc96",
           "#ab63fa",
           "#FFA15A",
           "#19d3f3",
           "#FF6692",
           "#B6E880",
           "#FF97FF",
           "#FECB52"
          ],
          "font": {
           "color": "#2a3f5f"
          },
          "geo": {
           "bgcolor": "white",
           "lakecolor": "white",
           "landcolor": "#E5ECF6",
           "showlakes": true,
           "showland": true,
           "subunitcolor": "white"
          },
          "hoverlabel": {
           "align": "left"
          },
          "hovermode": "closest",
          "mapbox": {
           "style": "light"
          },
          "paper_bgcolor": "white",
          "plot_bgcolor": "#E5ECF6",
          "polar": {
           "angularaxis": {
            "gridcolor": "white",
            "linecolor": "white",
            "ticks": ""
           },
           "bgcolor": "#E5ECF6",
           "radialaxis": {
            "gridcolor": "white",
            "linecolor": "white",
            "ticks": ""
           }
          },
          "scene": {
           "xaxis": {
            "backgroundcolor": "#E5ECF6",
            "gridcolor": "white",
            "gridwidth": 2,
            "linecolor": "white",
            "showbackground": true,
            "ticks": "",
            "zerolinecolor": "white"
           },
           "yaxis": {
            "backgroundcolor": "#E5ECF6",
            "gridcolor": "white",
            "gridwidth": 2,
            "linecolor": "white",
            "showbackground": true,
            "ticks": "",
            "zerolinecolor": "white"
           },
           "zaxis": {
            "backgroundcolor": "#E5ECF6",
            "gridcolor": "white",
            "gridwidth": 2,
            "linecolor": "white",
            "showbackground": true,
            "ticks": "",
            "zerolinecolor": "white"
           }
          },
          "shapedefaults": {
           "line": {
            "color": "#2a3f5f"
           }
          },
          "ternary": {
           "aaxis": {
            "gridcolor": "white",
            "linecolor": "white",
            "ticks": ""
           },
           "baxis": {
            "gridcolor": "white",
            "linecolor": "white",
            "ticks": ""
           },
           "bgcolor": "#E5ECF6",
           "caxis": {
            "gridcolor": "white",
            "linecolor": "white",
            "ticks": ""
           }
          },
          "title": {
           "x": 0.05
          },
          "xaxis": {
           "automargin": true,
           "gridcolor": "white",
           "linecolor": "white",
           "ticks": "",
           "title": {
            "standoff": 15
           },
           "zerolinecolor": "white",
           "zerolinewidth": 2
          },
          "yaxis": {
           "automargin": true,
           "gridcolor": "white",
           "linecolor": "white",
           "ticks": "",
           "title": {
            "standoff": 15
           },
           "zerolinecolor": "white",
           "zerolinewidth": 2
          }
         }
        },
        "width": 900,
        "xaxis": {
         "gridcolor": "#1f292f",
         "nticks": 5,
         "rangeslider": {
          "visible": false
         }
        },
        "yaxis": {
         "gridcolor": "#1f292f"
        }
       }
      }
     },
     "metadata": {},
     "output_type": "display_data"
    }
   ],
   "source": [
    "cp = CandlePlot(df_an.iloc[220:260])\n",
    "cp.show_plot(line_traces=[MA_S, MA_L])"
   ]
  },
  {
   "cell_type": "code",
   "execution_count": null,
   "id": "a3d019ff",
   "metadata": {},
   "outputs": [],
   "source": [
    "ic.LoadInstruments(\"../data\")"
   ]
  },
  {
   "cell_type": "code",
   "execution_count": null,
   "id": "9348690c",
   "metadata": {},
   "outputs": [],
   "source": [
    "ic.instruments_dict[pair]"
   ]
  },
  {
   "cell_type": "code",
   "execution_count": null,
   "id": "62f27766",
   "metadata": {},
   "outputs": [],
   "source": [
    "ins_data = ic.instruments_dict[pair]"
   ]
  },
  {
   "cell_type": "code",
   "execution_count": null,
   "id": "f998eb8b",
   "metadata": {},
   "outputs": [],
   "source": [
    "df_trades.shape"
   ]
  },
  {
   "cell_type": "code",
   "execution_count": null,
   "id": "5da185ff",
   "metadata": {},
   "outputs": [],
   "source": [
    "df_trades['DIFF'] = df_trades.mid_c.diff().shift(-1)\n",
    "df_trades.fillna(0, inplace=True)"
   ]
  },
  {
   "cell_type": "code",
   "execution_count": null,
   "id": "6dd32d74",
   "metadata": {},
   "outputs": [],
   "source": [
    "df_trades['GAIN'] = df_trades['DIFF'] / ins_data.pipLocation\n",
    "df_trades['GAIN'] = df_trades['GAIN'] * df_trades['TRADE'] "
   ]
  },
  {
   "cell_type": "code",
   "execution_count": null,
   "id": "4e3a69f8",
   "metadata": {},
   "outputs": [],
   "source": [
    "df_trades.GAIN.sum()"
   ]
  },
  {
   "cell_type": "code",
   "execution_count": null,
   "id": "ac5dbabc",
   "metadata": {},
   "outputs": [],
   "source": [
    "df_trades['GAIN_C'] = df_trades['GAIN'].cumsum()"
   ]
  },
  {
   "cell_type": "code",
   "execution_count": null,
   "id": "7a0ad325",
   "metadata": {},
   "outputs": [],
   "source": [
    "cp = CandlePlot(df_trades, candles=False)\n",
    "cp.show_plot(line_traces=['GAIN_C'])"
   ]
  },
  {
   "cell_type": "code",
   "execution_count": null,
   "id": "31383e17",
   "metadata": {},
   "outputs": [],
   "source": []
  },
  {
   "cell_type": "code",
   "execution_count": null,
   "id": "e5580b55",
   "metadata": {},
   "outputs": [],
   "source": []
  },
  {
   "cell_type": "code",
   "execution_count": null,
   "id": "88c7d0cb",
   "metadata": {},
   "outputs": [],
   "source": []
  }
 ],
 "metadata": {
  "kernelspec": {
   "display_name": "Python 3 (ipykernel)",
   "language": "python",
   "name": "python3"
  },
  "language_info": {
   "codemirror_mode": {
    "name": "ipython",
    "version": 3
   },
   "file_extension": ".py",
   "mimetype": "text/x-python",
   "name": "python",
   "nbconvert_exporter": "python",
   "pygments_lexer": "ipython3",
   "version": "3.10.12"
  }
 },
 "nbformat": 4,
 "nbformat_minor": 5
}
