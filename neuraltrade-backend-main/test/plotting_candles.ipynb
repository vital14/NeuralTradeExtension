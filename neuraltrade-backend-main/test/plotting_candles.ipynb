{
 "cells": [
  {
   "cell_type": "code",
   "execution_count": 1,
   "id": "5fed330a",
   "metadata": {},
   "outputs": [],
   "source": [
    "import pandas as pd\n",
    "import plotly.graph_objects as go\n",
    "import datetime as dt"
   ]
  },
  {
   "cell_type": "code",
   "execution_count": 3,
   "id": "b19a3cf7",
   "metadata": {},
   "outputs": [],
   "source": [
    "pair = \"AUD_CAD\"\n",
    "granularity = \"H4\"\n",
    "df = pd.read_pickle(f\"../data/{pair}_{granularity}.pkl\")"
   ]
  },
  {
   "cell_type": "code",
   "execution_count": 4,
   "id": "df3f6e66",
   "metadata": {},
   "outputs": [
    {
     "data": {
      "text/html": [
       "<div>\n",
       "<style scoped>\n",
       "    .dataframe tbody tr th:only-of-type {\n",
       "        vertical-align: middle;\n",
       "    }\n",
       "\n",
       "    .dataframe tbody tr th {\n",
       "        vertical-align: top;\n",
       "    }\n",
       "\n",
       "    .dataframe thead th {\n",
       "        text-align: right;\n",
       "    }\n",
       "</style>\n",
       "<table border=\"1\" class=\"dataframe\">\n",
       "  <thead>\n",
       "    <tr style=\"text-align: right;\">\n",
       "      <th></th>\n",
       "      <th>time</th>\n",
       "      <th>volume</th>\n",
       "      <th>mid_o</th>\n",
       "      <th>mid_h</th>\n",
       "      <th>mid_l</th>\n",
       "      <th>mid_c</th>\n",
       "      <th>bid_o</th>\n",
       "      <th>bid_h</th>\n",
       "      <th>bid_l</th>\n",
       "      <th>bid_c</th>\n",
       "      <th>ask_o</th>\n",
       "      <th>ask_h</th>\n",
       "      <th>ask_l</th>\n",
       "      <th>ask_c</th>\n",
       "    </tr>\n",
       "  </thead>\n",
       "  <tbody>\n",
       "    <tr>\n",
       "      <th>12418</th>\n",
       "      <td>2023-12-29 02:00:00+00:00</td>\n",
       "      <td>7774</td>\n",
       "      <td>0.90484</td>\n",
       "      <td>0.90540</td>\n",
       "      <td>0.90326</td>\n",
       "      <td>0.90494</td>\n",
       "      <td>0.90473</td>\n",
       "      <td>0.90529</td>\n",
       "      <td>0.90312</td>\n",
       "      <td>0.90482</td>\n",
       "      <td>0.90494</td>\n",
       "      <td>0.90550</td>\n",
       "      <td>0.90338</td>\n",
       "      <td>0.90505</td>\n",
       "    </tr>\n",
       "    <tr>\n",
       "      <th>12419</th>\n",
       "      <td>2023-12-29 06:00:00+00:00</td>\n",
       "      <td>5298</td>\n",
       "      <td>0.90494</td>\n",
       "      <td>0.90592</td>\n",
       "      <td>0.90166</td>\n",
       "      <td>0.90168</td>\n",
       "      <td>0.90484</td>\n",
       "      <td>0.90580</td>\n",
       "      <td>0.90156</td>\n",
       "      <td>0.90158</td>\n",
       "      <td>0.90505</td>\n",
       "      <td>0.90605</td>\n",
       "      <td>0.90177</td>\n",
       "      <td>0.90179</td>\n",
       "    </tr>\n",
       "    <tr>\n",
       "      <th>12420</th>\n",
       "      <td>2023-12-29 10:00:00+00:00</td>\n",
       "      <td>4624</td>\n",
       "      <td>0.90170</td>\n",
       "      <td>0.90205</td>\n",
       "      <td>0.89916</td>\n",
       "      <td>0.89925</td>\n",
       "      <td>0.90161</td>\n",
       "      <td>0.90195</td>\n",
       "      <td>0.89906</td>\n",
       "      <td>0.89915</td>\n",
       "      <td>0.90180</td>\n",
       "      <td>0.90215</td>\n",
       "      <td>0.89926</td>\n",
       "      <td>0.89935</td>\n",
       "    </tr>\n",
       "    <tr>\n",
       "      <th>12421</th>\n",
       "      <td>2023-12-29 14:00:00+00:00</td>\n",
       "      <td>9099</td>\n",
       "      <td>0.89924</td>\n",
       "      <td>0.90338</td>\n",
       "      <td>0.89862</td>\n",
       "      <td>0.90271</td>\n",
       "      <td>0.89913</td>\n",
       "      <td>0.90328</td>\n",
       "      <td>0.89851</td>\n",
       "      <td>0.90260</td>\n",
       "      <td>0.89934</td>\n",
       "      <td>0.90349</td>\n",
       "      <td>0.89872</td>\n",
       "      <td>0.90282</td>\n",
       "    </tr>\n",
       "    <tr>\n",
       "      <th>12422</th>\n",
       "      <td>2023-12-29 18:00:00+00:00</td>\n",
       "      <td>3104</td>\n",
       "      <td>0.90274</td>\n",
       "      <td>0.90334</td>\n",
       "      <td>0.90180</td>\n",
       "      <td>0.90284</td>\n",
       "      <td>0.90263</td>\n",
       "      <td>0.90324</td>\n",
       "      <td>0.90095</td>\n",
       "      <td>0.90206</td>\n",
       "      <td>0.90284</td>\n",
       "      <td>0.90364</td>\n",
       "      <td>0.90191</td>\n",
       "      <td>0.90362</td>\n",
       "    </tr>\n",
       "  </tbody>\n",
       "</table>\n",
       "</div>"
      ],
      "text/plain": [
       "                           time  volume    mid_o    mid_h    mid_l    mid_c  \\\n",
       "12418 2023-12-29 02:00:00+00:00    7774  0.90484  0.90540  0.90326  0.90494   \n",
       "12419 2023-12-29 06:00:00+00:00    5298  0.90494  0.90592  0.90166  0.90168   \n",
       "12420 2023-12-29 10:00:00+00:00    4624  0.90170  0.90205  0.89916  0.89925   \n",
       "12421 2023-12-29 14:00:00+00:00    9099  0.89924  0.90338  0.89862  0.90271   \n",
       "12422 2023-12-29 18:00:00+00:00    3104  0.90274  0.90334  0.90180  0.90284   \n",
       "\n",
       "         bid_o    bid_h    bid_l    bid_c    ask_o    ask_h    ask_l    ask_c  \n",
       "12418  0.90473  0.90529  0.90312  0.90482  0.90494  0.90550  0.90338  0.90505  \n",
       "12419  0.90484  0.90580  0.90156  0.90158  0.90505  0.90605  0.90177  0.90179  \n",
       "12420  0.90161  0.90195  0.89906  0.89915  0.90180  0.90215  0.89926  0.89935  \n",
       "12421  0.89913  0.90328  0.89851  0.90260  0.89934  0.90349  0.89872  0.90282  \n",
       "12422  0.90263  0.90324  0.90095  0.90206  0.90284  0.90364  0.90191  0.90362  "
      ]
     },
     "execution_count": 4,
     "metadata": {},
     "output_type": "execute_result"
    }
   ],
   "source": [
    "df.tail()"
   ]
  },
  {
   "cell_type": "code",
   "execution_count": 5,
   "id": "d438e633",
   "metadata": {},
   "outputs": [],
   "source": [
    "df['sTime'] = [dt.datetime.strftime(x, \"s%y-%m-%d %H:%M\") for x in df.time]"
   ]
  },
  {
   "cell_type": "code",
   "execution_count": 6,
   "id": "2046e30d",
   "metadata": {},
   "outputs": [],
   "source": [
    "df_plot = df.iloc[:100]"
   ]
  },
  {
   "cell_type": "code",
   "execution_count": 7,
   "id": "0a1c446f",
   "metadata": {},
   "outputs": [
    {
     "data": {
      "application/vnd.plotly.v1+json": {
       "config": {
        "plotlyServerURL": "https://plot.ly"
       },
       "data": [
        {
         "close": [
          0.9908,
          0.99278,
          0.99186,
          0.9861,
          0.98775,
          0.98986,
          0.99178,
          0.993,
          0.9908,
          0.98725,
          0.98694,
          0.98534,
          0.9872,
          0.98734,
          0.98945,
          0.98937,
          0.99362,
          0.99416,
          0.99426,
          0.99458,
          0.99377,
          0.99374,
          0.99764,
          0.99636,
          0.99946,
          1.00067,
          0.99835,
          0.99919,
          0.99916,
          0.99753,
          0.99798,
          0.99721,
          0.99596,
          0.99861,
          1.00314,
          1.00344,
          1.00181,
          1.0007,
          0.99954,
          0.99664,
          0.99336,
          0.99769,
          1.00202,
          1.00246,
          0.99819,
          0.99884,
          0.99702,
          0.99961,
          0.99938,
          1.00014,
          1.00164,
          1.00429,
          1.00648,
          1.00718,
          1.00592,
          1.00374,
          1.00486,
          1.0061,
          1.0006,
          1.00183,
          1.00298,
          1.00007,
          1.00191,
          0.9981,
          0.9987,
          0.99848,
          0.99945,
          1.00103,
          0.9964,
          0.99516,
          0.99126,
          0.98865,
          0.98952,
          0.99224,
          0.99144,
          0.99117,
          0.99363,
          0.99394,
          0.99294,
          0.99354,
          0.99358,
          0.99054,
          0.98719,
          0.98898,
          0.9929,
          0.99066,
          0.99437,
          0.9961,
          0.99334,
          0.99047,
          0.99328,
          0.99336,
          0.99618,
          0.99468,
          0.99608,
          0.99378,
          0.9961,
          0.99783,
          0.9951,
          0.99474
         ],
         "decreasing": {
          "fillcolor": "#CC2E3C",
          "line": {
           "color": "#FF3A4C"
          }
         },
         "high": [
          0.9969,
          0.9948,
          0.99738,
          0.99284,
          0.98936,
          0.98989,
          0.99672,
          0.99502,
          0.99449,
          0.99202,
          0.98804,
          0.98823,
          0.98935,
          0.9885,
          0.9901,
          0.99036,
          0.9943,
          0.99533,
          0.99516,
          0.9952,
          0.99478,
          0.99574,
          0.99795,
          0.99799,
          1.00012,
          1.00244,
          1.00107,
          0.99946,
          1.00046,
          1.00062,
          0.999,
          0.99903,
          1.00008,
          0.99898,
          1.00395,
          1.0043,
          1.00454,
          1.00198,
          1.00739,
          0.99956,
          0.99846,
          0.99879,
          1.00228,
          1.00536,
          1.00368,
          0.99951,
          0.99977,
          1.00056,
          1.00154,
          1.00061,
          1.00174,
          1.00554,
          1.00713,
          1.00877,
          1.00787,
          1.00705,
          1.00584,
          1.00639,
          1.00806,
          1.0035,
          1.00613,
          1.00366,
          1.00206,
          1.0021,
          0.99923,
          1.0019,
          1.00141,
          1.00182,
          1.00211,
          0.99729,
          0.99701,
          0.99187,
          0.99145,
          0.99351,
          0.99373,
          0.99224,
          0.99378,
          0.99408,
          0.99356,
          0.99394,
          0.99454,
          0.99375,
          0.99058,
          0.98968,
          0.99378,
          0.99404,
          0.99507,
          0.99629,
          0.99612,
          0.99434,
          0.99328,
          0.9944,
          0.99665,
          0.998,
          0.99904,
          0.99631,
          0.99616,
          0.9987,
          0.99867,
          0.99845
         ],
         "increasing": {
          "fillcolor": "#24A06B",
          "line": {
           "color": "#2EC886"
          }
         },
         "line": {
          "width": 1
         },
         "low": [
          0.9905,
          0.99066,
          0.99174,
          0.9861,
          0.9857,
          0.98492,
          0.98816,
          0.99168,
          0.9907,
          0.98559,
          0.9846,
          0.98502,
          0.98252,
          0.9852,
          0.9862,
          0.98753,
          0.98862,
          0.99214,
          0.99274,
          0.99276,
          0.98966,
          0.99174,
          0.99329,
          0.99631,
          0.99531,
          0.99945,
          0.99816,
          0.99773,
          0.99726,
          0.99752,
          0.99394,
          0.9949,
          0.99477,
          0.9951,
          0.99782,
          1.00245,
          1.00008,
          0.99842,
          0.99801,
          0.99517,
          0.99211,
          0.99307,
          0.99814,
          1.00128,
          0.99795,
          0.99754,
          0.99601,
          0.99564,
          0.99878,
          0.99457,
          0.99829,
          1.00164,
          1.0028,
          1.00568,
          1.00442,
          1.00346,
          1.00266,
          1.00152,
          0.99602,
          1.0004,
          1.00149,
          0.99962,
          0.99846,
          0.99759,
          0.9936,
          0.99762,
          0.99832,
          0.99828,
          0.99486,
          0.9939,
          0.99096,
          0.98865,
          0.98824,
          0.98939,
          0.99016,
          0.9897,
          0.99031,
          0.99179,
          0.99094,
          0.99245,
          0.99064,
          0.99004,
          0.98476,
          0.9865,
          0.98738,
          0.9901,
          0.99067,
          0.98994,
          0.99151,
          0.98965,
          0.98814,
          0.99242,
          0.9932,
          0.99442,
          0.99368,
          0.99371,
          0.9934,
          0.9934,
          0.99457,
          0.99452
         ],
         "opacity": 1,
         "open": [
          0.99542,
          0.99078,
          0.99278,
          0.99186,
          0.98612,
          0.98774,
          0.98933,
          0.99179,
          0.99298,
          0.99082,
          0.98724,
          0.98695,
          0.98767,
          0.98718,
          0.98733,
          0.98945,
          0.98938,
          0.99362,
          0.9943,
          0.99428,
          0.99457,
          0.99376,
          0.99372,
          0.99766,
          0.99658,
          0.99945,
          1.0007,
          0.99834,
          0.99918,
          0.99916,
          0.99749,
          0.99794,
          0.9972,
          0.99594,
          0.9986,
          1.00315,
          1.00326,
          1.0018,
          1.0007,
          0.99955,
          0.99662,
          0.99336,
          0.99884,
          1.00202,
          1.00247,
          0.99818,
          0.99884,
          0.99702,
          0.99948,
          0.99936,
          1.00014,
          1.00165,
          1.00428,
          1.0065,
          1.00724,
          1.00592,
          1.00375,
          1.00488,
          1.0061,
          1.00062,
          1.00166,
          1.00298,
          1.00006,
          1.00191,
          0.99814,
          0.99868,
          0.99848,
          0.99943,
          1.00104,
          0.99641,
          0.99515,
          0.99122,
          0.99112,
          0.98954,
          0.99224,
          0.99143,
          0.99117,
          0.99364,
          0.99336,
          0.99295,
          0.99352,
          0.99359,
          0.99055,
          0.98717,
          0.98907,
          0.99294,
          0.99067,
          0.99436,
          0.9961,
          0.99336,
          0.9905,
          0.99329,
          0.99335,
          0.99617,
          0.99468,
          0.9961,
          0.99418,
          0.99608,
          0.99784,
          0.99506
         ],
         "type": "candlestick",
         "x": [
          "s16-01-06 22:00",
          "s16-01-07 02:00",
          "s16-01-07 06:00",
          "s16-01-07 10:00",
          "s16-01-07 14:00",
          "s16-01-07 18:00",
          "s16-01-07 22:00",
          "s16-01-08 02:00",
          "s16-01-08 06:00",
          "s16-01-08 10:00",
          "s16-01-08 14:00",
          "s16-01-08 18:00",
          "s16-01-10 22:00",
          "s16-01-11 02:00",
          "s16-01-11 06:00",
          "s16-01-11 10:00",
          "s16-01-11 14:00",
          "s16-01-11 18:00",
          "s16-01-11 22:00",
          "s16-01-12 02:00",
          "s16-01-12 06:00",
          "s16-01-12 10:00",
          "s16-01-12 14:00",
          "s16-01-12 18:00",
          "s16-01-12 22:00",
          "s16-01-13 02:00",
          "s16-01-13 06:00",
          "s16-01-13 10:00",
          "s16-01-13 14:00",
          "s16-01-13 18:00",
          "s16-01-13 22:00",
          "s16-01-14 02:00",
          "s16-01-14 06:00",
          "s16-01-14 10:00",
          "s16-01-14 14:00",
          "s16-01-14 18:00",
          "s16-01-14 22:00",
          "s16-01-15 02:00",
          "s16-01-15 06:00",
          "s16-01-15 10:00",
          "s16-01-15 14:00",
          "s16-01-15 18:00",
          "s16-01-17 22:00",
          "s16-01-18 02:00",
          "s16-01-18 06:00",
          "s16-01-18 10:00",
          "s16-01-18 14:00",
          "s16-01-18 18:00",
          "s16-01-18 22:00",
          "s16-01-19 02:00",
          "s16-01-19 06:00",
          "s16-01-19 10:00",
          "s16-01-19 14:00",
          "s16-01-19 18:00",
          "s16-01-19 22:00",
          "s16-01-20 02:00",
          "s16-01-20 06:00",
          "s16-01-20 10:00",
          "s16-01-20 14:00",
          "s16-01-20 18:00",
          "s16-01-20 22:00",
          "s16-01-21 02:00",
          "s16-01-21 06:00",
          "s16-01-21 10:00",
          "s16-01-21 14:00",
          "s16-01-21 18:00",
          "s16-01-21 22:00",
          "s16-01-22 02:00",
          "s16-01-22 06:00",
          "s16-01-22 10:00",
          "s16-01-22 14:00",
          "s16-01-22 18:00",
          "s16-01-24 22:00",
          "s16-01-25 02:00",
          "s16-01-25 06:00",
          "s16-01-25 10:00",
          "s16-01-25 14:00",
          "s16-01-25 18:00",
          "s16-01-25 22:00",
          "s16-01-26 02:00",
          "s16-01-26 06:00",
          "s16-01-26 10:00",
          "s16-01-26 14:00",
          "s16-01-26 18:00",
          "s16-01-26 22:00",
          "s16-01-27 02:00",
          "s16-01-27 06:00",
          "s16-01-27 10:00",
          "s16-01-27 14:00",
          "s16-01-27 18:00",
          "s16-01-27 22:00",
          "s16-01-28 02:00",
          "s16-01-28 06:00",
          "s16-01-28 10:00",
          "s16-01-28 14:00",
          "s16-01-28 18:00",
          "s16-01-28 22:00",
          "s16-01-29 02:00",
          "s16-01-29 06:00",
          "s16-01-29 10:00"
         ]
        }
       ],
       "layout": {
        "font": {
         "color": "#e1e1e1",
         "size": 8
        },
        "height": 400,
        "margin": {
         "b": 10,
         "l": 10,
         "r": 10,
         "t": 10
        },
        "paper_bgcolor": "#2c303c",
        "plot_bgcolor": "#2c303c",
        "template": {
         "data": {
          "bar": [
           {
            "error_x": {
             "color": "#2a3f5f"
            },
            "error_y": {
             "color": "#2a3f5f"
            },
            "marker": {
             "line": {
              "color": "#E5ECF6",
              "width": 0.5
             },
             "pattern": {
              "fillmode": "overlay",
              "size": 10,
              "solidity": 0.2
             }
            },
            "type": "bar"
           }
          ],
          "barpolar": [
           {
            "marker": {
             "line": {
              "color": "#E5ECF6",
              "width": 0.5
             },
             "pattern": {
              "fillmode": "overlay",
              "size": 10,
              "solidity": 0.2
             }
            },
            "type": "barpolar"
           }
          ],
          "carpet": [
           {
            "aaxis": {
             "endlinecolor": "#2a3f5f",
             "gridcolor": "white",
             "linecolor": "white",
             "minorgridcolor": "white",
             "startlinecolor": "#2a3f5f"
            },
            "baxis": {
             "endlinecolor": "#2a3f5f",
             "gridcolor": "white",
             "linecolor": "white",
             "minorgridcolor": "white",
             "startlinecolor": "#2a3f5f"
            },
            "type": "carpet"
           }
          ],
          "choropleth": [
           {
            "colorbar": {
             "outlinewidth": 0,
             "ticks": ""
            },
            "type": "choropleth"
           }
          ],
          "contour": [
           {
            "colorbar": {
             "outlinewidth": 0,
             "ticks": ""
            },
            "colorscale": [
             [
              0,
              "#0d0887"
             ],
             [
              0.1111111111111111,
              "#46039f"
             ],
             [
              0.2222222222222222,
              "#7201a8"
             ],
             [
              0.3333333333333333,
              "#9c179e"
             ],
             [
              0.4444444444444444,
              "#bd3786"
             ],
             [
              0.5555555555555556,
              "#d8576b"
             ],
             [
              0.6666666666666666,
              "#ed7953"
             ],
             [
              0.7777777777777778,
              "#fb9f3a"
             ],
             [
              0.8888888888888888,
              "#fdca26"
             ],
             [
              1,
              "#f0f921"
             ]
            ],
            "type": "contour"
           }
          ],
          "contourcarpet": [
           {
            "colorbar": {
             "outlinewidth": 0,
             "ticks": ""
            },
            "type": "contourcarpet"
           }
          ],
          "heatmap": [
           {
            "colorbar": {
             "outlinewidth": 0,
             "ticks": ""
            },
            "colorscale": [
             [
              0,
              "#0d0887"
             ],
             [
              0.1111111111111111,
              "#46039f"
             ],
             [
              0.2222222222222222,
              "#7201a8"
             ],
             [
              0.3333333333333333,
              "#9c179e"
             ],
             [
              0.4444444444444444,
              "#bd3786"
             ],
             [
              0.5555555555555556,
              "#d8576b"
             ],
             [
              0.6666666666666666,
              "#ed7953"
             ],
             [
              0.7777777777777778,
              "#fb9f3a"
             ],
             [
              0.8888888888888888,
              "#fdca26"
             ],
             [
              1,
              "#f0f921"
             ]
            ],
            "type": "heatmap"
           }
          ],
          "heatmapgl": [
           {
            "colorbar": {
             "outlinewidth": 0,
             "ticks": ""
            },
            "colorscale": [
             [
              0,
              "#0d0887"
             ],
             [
              0.1111111111111111,
              "#46039f"
             ],
             [
              0.2222222222222222,
              "#7201a8"
             ],
             [
              0.3333333333333333,
              "#9c179e"
             ],
             [
              0.4444444444444444,
              "#bd3786"
             ],
             [
              0.5555555555555556,
              "#d8576b"
             ],
             [
              0.6666666666666666,
              "#ed7953"
             ],
             [
              0.7777777777777778,
              "#fb9f3a"
             ],
             [
              0.8888888888888888,
              "#fdca26"
             ],
             [
              1,
              "#f0f921"
             ]
            ],
            "type": "heatmapgl"
           }
          ],
          "histogram": [
           {
            "marker": {
             "pattern": {
              "fillmode": "overlay",
              "size": 10,
              "solidity": 0.2
             }
            },
            "type": "histogram"
           }
          ],
          "histogram2d": [
           {
            "colorbar": {
             "outlinewidth": 0,
             "ticks": ""
            },
            "colorscale": [
             [
              0,
              "#0d0887"
             ],
             [
              0.1111111111111111,
              "#46039f"
             ],
             [
              0.2222222222222222,
              "#7201a8"
             ],
             [
              0.3333333333333333,
              "#9c179e"
             ],
             [
              0.4444444444444444,
              "#bd3786"
             ],
             [
              0.5555555555555556,
              "#d8576b"
             ],
             [
              0.6666666666666666,
              "#ed7953"
             ],
             [
              0.7777777777777778,
              "#fb9f3a"
             ],
             [
              0.8888888888888888,
              "#fdca26"
             ],
             [
              1,
              "#f0f921"
             ]
            ],
            "type": "histogram2d"
           }
          ],
          "histogram2dcontour": [
           {
            "colorbar": {
             "outlinewidth": 0,
             "ticks": ""
            },
            "colorscale": [
             [
              0,
              "#0d0887"
             ],
             [
              0.1111111111111111,
              "#46039f"
             ],
             [
              0.2222222222222222,
              "#7201a8"
             ],
             [
              0.3333333333333333,
              "#9c179e"
             ],
             [
              0.4444444444444444,
              "#bd3786"
             ],
             [
              0.5555555555555556,
              "#d8576b"
             ],
             [
              0.6666666666666666,
              "#ed7953"
             ],
             [
              0.7777777777777778,
              "#fb9f3a"
             ],
             [
              0.8888888888888888,
              "#fdca26"
             ],
             [
              1,
              "#f0f921"
             ]
            ],
            "type": "histogram2dcontour"
           }
          ],
          "mesh3d": [
           {
            "colorbar": {
             "outlinewidth": 0,
             "ticks": ""
            },
            "type": "mesh3d"
           }
          ],
          "parcoords": [
           {
            "line": {
             "colorbar": {
              "outlinewidth": 0,
              "ticks": ""
             }
            },
            "type": "parcoords"
           }
          ],
          "pie": [
           {
            "automargin": true,
            "type": "pie"
           }
          ],
          "scatter": [
           {
            "fillpattern": {
             "fillmode": "overlay",
             "size": 10,
             "solidity": 0.2
            },
            "type": "scatter"
           }
          ],
          "scatter3d": [
           {
            "line": {
             "colorbar": {
              "outlinewidth": 0,
              "ticks": ""
             }
            },
            "marker": {
             "colorbar": {
              "outlinewidth": 0,
              "ticks": ""
             }
            },
            "type": "scatter3d"
           }
          ],
          "scattercarpet": [
           {
            "marker": {
             "colorbar": {
              "outlinewidth": 0,
              "ticks": ""
             }
            },
            "type": "scattercarpet"
           }
          ],
          "scattergeo": [
           {
            "marker": {
             "colorbar": {
              "outlinewidth": 0,
              "ticks": ""
             }
            },
            "type": "scattergeo"
           }
          ],
          "scattergl": [
           {
            "marker": {
             "colorbar": {
              "outlinewidth": 0,
              "ticks": ""
             }
            },
            "type": "scattergl"
           }
          ],
          "scattermapbox": [
           {
            "marker": {
             "colorbar": {
              "outlinewidth": 0,
              "ticks": ""
             }
            },
            "type": "scattermapbox"
           }
          ],
          "scatterpolar": [
           {
            "marker": {
             "colorbar": {
              "outlinewidth": 0,
              "ticks": ""
             }
            },
            "type": "scatterpolar"
           }
          ],
          "scatterpolargl": [
           {
            "marker": {
             "colorbar": {
              "outlinewidth": 0,
              "ticks": ""
             }
            },
            "type": "scatterpolargl"
           }
          ],
          "scatterternary": [
           {
            "marker": {
             "colorbar": {
              "outlinewidth": 0,
              "ticks": ""
             }
            },
            "type": "scatterternary"
           }
          ],
          "surface": [
           {
            "colorbar": {
             "outlinewidth": 0,
             "ticks": ""
            },
            "colorscale": [
             [
              0,
              "#0d0887"
             ],
             [
              0.1111111111111111,
              "#46039f"
             ],
             [
              0.2222222222222222,
              "#7201a8"
             ],
             [
              0.3333333333333333,
              "#9c179e"
             ],
             [
              0.4444444444444444,
              "#bd3786"
             ],
             [
              0.5555555555555556,
              "#d8576b"
             ],
             [
              0.6666666666666666,
              "#ed7953"
             ],
             [
              0.7777777777777778,
              "#fb9f3a"
             ],
             [
              0.8888888888888888,
              "#fdca26"
             ],
             [
              1,
              "#f0f921"
             ]
            ],
            "type": "surface"
           }
          ],
          "table": [
           {
            "cells": {
             "fill": {
              "color": "#EBF0F8"
             },
             "line": {
              "color": "white"
             }
            },
            "header": {
             "fill": {
              "color": "#C8D4E3"
             },
             "line": {
              "color": "white"
             }
            },
            "type": "table"
           }
          ]
         },
         "layout": {
          "annotationdefaults": {
           "arrowcolor": "#2a3f5f",
           "arrowhead": 0,
           "arrowwidth": 1
          },
          "autotypenumbers": "strict",
          "coloraxis": {
           "colorbar": {
            "outlinewidth": 0,
            "ticks": ""
           }
          },
          "colorscale": {
           "diverging": [
            [
             0,
             "#8e0152"
            ],
            [
             0.1,
             "#c51b7d"
            ],
            [
             0.2,
             "#de77ae"
            ],
            [
             0.3,
             "#f1b6da"
            ],
            [
             0.4,
             "#fde0ef"
            ],
            [
             0.5,
             "#f7f7f7"
            ],
            [
             0.6,
             "#e6f5d0"
            ],
            [
             0.7,
             "#b8e186"
            ],
            [
             0.8,
             "#7fbc41"
            ],
            [
             0.9,
             "#4d9221"
            ],
            [
             1,
             "#276419"
            ]
           ],
           "sequential": [
            [
             0,
             "#0d0887"
            ],
            [
             0.1111111111111111,
             "#46039f"
            ],
            [
             0.2222222222222222,
             "#7201a8"
            ],
            [
             0.3333333333333333,
             "#9c179e"
            ],
            [
             0.4444444444444444,
             "#bd3786"
            ],
            [
             0.5555555555555556,
             "#d8576b"
            ],
            [
             0.6666666666666666,
             "#ed7953"
            ],
            [
             0.7777777777777778,
             "#fb9f3a"
            ],
            [
             0.8888888888888888,
             "#fdca26"
            ],
            [
             1,
             "#f0f921"
            ]
           ],
           "sequentialminus": [
            [
             0,
             "#0d0887"
            ],
            [
             0.1111111111111111,
             "#46039f"
            ],
            [
             0.2222222222222222,
             "#7201a8"
            ],
            [
             0.3333333333333333,
             "#9c179e"
            ],
            [
             0.4444444444444444,
             "#bd3786"
            ],
            [
             0.5555555555555556,
             "#d8576b"
            ],
            [
             0.6666666666666666,
             "#ed7953"
            ],
            [
             0.7777777777777778,
             "#fb9f3a"
            ],
            [
             0.8888888888888888,
             "#fdca26"
            ],
            [
             1,
             "#f0f921"
            ]
           ]
          },
          "colorway": [
           "#636efa",
           "#EF553B",
           "#00cc96",
           "#ab63fa",
           "#FFA15A",
           "#19d3f3",
           "#FF6692",
           "#B6E880",
           "#FF97FF",
           "#FECB52"
          ],
          "font": {
           "color": "#2a3f5f"
          },
          "geo": {
           "bgcolor": "white",
           "lakecolor": "white",
           "landcolor": "#E5ECF6",
           "showlakes": true,
           "showland": true,
           "subunitcolor": "white"
          },
          "hoverlabel": {
           "align": "left"
          },
          "hovermode": "closest",
          "mapbox": {
           "style": "light"
          },
          "paper_bgcolor": "white",
          "plot_bgcolor": "#E5ECF6",
          "polar": {
           "angularaxis": {
            "gridcolor": "white",
            "linecolor": "white",
            "ticks": ""
           },
           "bgcolor": "#E5ECF6",
           "radialaxis": {
            "gridcolor": "white",
            "linecolor": "white",
            "ticks": ""
           }
          },
          "scene": {
           "xaxis": {
            "backgroundcolor": "#E5ECF6",
            "gridcolor": "white",
            "gridwidth": 2,
            "linecolor": "white",
            "showbackground": true,
            "ticks": "",
            "zerolinecolor": "white"
           },
           "yaxis": {
            "backgroundcolor": "#E5ECF6",
            "gridcolor": "white",
            "gridwidth": 2,
            "linecolor": "white",
            "showbackground": true,
            "ticks": "",
            "zerolinecolor": "white"
           },
           "zaxis": {
            "backgroundcolor": "#E5ECF6",
            "gridcolor": "white",
            "gridwidth": 2,
            "linecolor": "white",
            "showbackground": true,
            "ticks": "",
            "zerolinecolor": "white"
           }
          },
          "shapedefaults": {
           "line": {
            "color": "#2a3f5f"
           }
          },
          "ternary": {
           "aaxis": {
            "gridcolor": "white",
            "linecolor": "white",
            "ticks": ""
           },
           "baxis": {
            "gridcolor": "white",
            "linecolor": "white",
            "ticks": ""
           },
           "bgcolor": "#E5ECF6",
           "caxis": {
            "gridcolor": "white",
            "linecolor": "white",
            "ticks": ""
           }
          },
          "title": {
           "x": 0.05
          },
          "xaxis": {
           "automargin": true,
           "gridcolor": "white",
           "linecolor": "white",
           "ticks": "",
           "title": {
            "standoff": 15
           },
           "zerolinecolor": "white",
           "zerolinewidth": 2
          },
          "yaxis": {
           "automargin": true,
           "gridcolor": "white",
           "linecolor": "white",
           "ticks": "",
           "title": {
            "standoff": 15
           },
           "zerolinecolor": "white",
           "zerolinewidth": 2
          }
         }
        },
        "width": 900,
        "xaxis": {
         "gridcolor": "#1f292f",
         "nticks": 5,
         "rangeslider": {
          "visible": false
         }
        },
        "yaxis": {
         "gridcolor": "#1f292f"
        }
       }
      }
     },
     "metadata": {},
     "output_type": "display_data"
    }
   ],
   "source": [
    "fig = go.Figure()\n",
    "fig.add_trace(go.Candlestick(\n",
    "    x=df_plot.sTime,\n",
    "    open=df_plot.mid_o,\n",
    "    high=df_plot.mid_h,\n",
    "    low=df_plot.mid_l,\n",
    "    close=df_plot.mid_c,\n",
    "    line=dict(width=1), opacity=1,\n",
    "    increasing_fillcolor='#24A06B',\n",
    "    decreasing_fillcolor=\"#CC2E3C\",\n",
    "    increasing_line_color='#2EC886',  \n",
    "    decreasing_line_color='#FF3A4C'\n",
    "))\n",
    "\n",
    "fig.update_yaxes(\n",
    "    gridcolor=\"#1f292f\"\n",
    ")\n",
    "fig.update_xaxes(\n",
    "    gridcolor=\"#1f292f\",\n",
    "    rangeslider=dict(visible=False),\n",
    "    nticks=5\n",
    ")\n",
    "\n",
    "fig.update_layout(\n",
    "    width=900,\n",
    "    height=400,\n",
    "    margin=dict(l=10,r=10,b=10,t=10),\n",
    "    paper_bgcolor=\"#2c303c\",\n",
    "    plot_bgcolor=\"#2c303c\",\n",
    "    font=dict(size=8, color=\"#e1e1e1\")\n",
    ")\n",
    "\n",
    "fig.show()"
   ]
  },
  {
   "cell_type": "code",
   "execution_count": null,
   "id": "e82b7f77",
   "metadata": {},
   "outputs": [],
   "source": []
  },
  {
   "cell_type": "code",
   "execution_count": null,
   "id": "fdb6f2c5",
   "metadata": {},
   "outputs": [],
   "source": []
  },
  {
   "cell_type": "code",
   "execution_count": null,
   "id": "210c53e5",
   "metadata": {},
   "outputs": [],
   "source": []
  },
  {
   "cell_type": "code",
   "execution_count": null,
   "id": "1f25826c",
   "metadata": {},
   "outputs": [],
   "source": []
  },
  {
   "cell_type": "code",
   "execution_count": null,
   "id": "43f3bf12",
   "metadata": {},
   "outputs": [],
   "source": []
  },
  {
   "cell_type": "code",
   "execution_count": null,
   "id": "29ec4abb",
   "metadata": {},
   "outputs": [],
   "source": []
  }
 ],
 "metadata": {
  "kernelspec": {
   "display_name": "Python 3 (ipykernel)",
   "language": "python",
   "name": "python3"
  },
  "language_info": {
   "codemirror_mode": {
    "name": "ipython",
    "version": 3
   },
   "file_extension": ".py",
   "mimetype": "text/x-python",
   "name": "python",
   "nbconvert_exporter": "python",
   "pygments_lexer": "ipython3",
   "version": "3.10.12"
  }
 },
 "nbformat": 4,
 "nbformat_minor": 5
}
